{
 "cells": [
  {
   "cell_type": "markdown",
   "metadata": {},
   "source": [
    "# Objective\n",
    "\n",
    "1. Build an NN model for Mnist dataset for classifying handwritting numbers from 0 to 9\n",
    "2. Build a new model for Mnish dataset based on the previous model while the new model only classifies numbers 0 and 1"
   ]
  },
  {
   "cell_type": "markdown",
   "metadata": {},
   "source": [
    "# Prepare Environment"
   ]
  },
  {
   "cell_type": "code",
   "execution_count": 1,
   "metadata": {},
   "outputs": [
    {
     "name": "stdout",
     "output_type": "stream",
     "text": [
      "env: KERAS_BACKEND=tensorflow\n"
     ]
    }
   ],
   "source": [
    "%env KERAS_BACKEND=tensorflow\n",
    "%matplotlib inline\n",
    "\n",
    "import numpy as np\n",
    "import matplotlib.pyplot as plt"
   ]
  },
  {
   "cell_type": "markdown",
   "metadata": {},
   "source": [
    "# Prepare Data\n",
    "1. Load"
   ]
  },
  {
   "cell_type": "code",
   "execution_count": 2,
   "metadata": {},
   "outputs": [
    {
     "name": "stderr",
     "output_type": "stream",
     "text": [
      "Using TensorFlow backend.\n"
     ]
    }
   ],
   "source": [
    "from keras.datasets import mnist\n",
    "\n",
    "(x_train, y_train), (x_test, y_test) = mnist.load_data()"
   ]
  },
  {
   "cell_type": "markdown",
   "metadata": {},
   "source": [
    "2. Reshape"
   ]
  },
  {
   "cell_type": "code",
   "execution_count": 3,
   "metadata": {},
   "outputs": [
    {
     "name": "stdout",
     "output_type": "stream",
     "text": [
      "Before reshape: x_train.shape = (60000, 28, 28) ; x_test.shape = (10000, 28, 28)\n",
      "After reshape: x_train.shape = (60000, 28, 28, 1) ; x_test.shape = (10000, 28, 28, 1)\n"
     ]
    }
   ],
   "source": [
    "print('Before reshape: x_train.shape =', x_train.shape, '; x_test.shape =', x_test.shape)\n",
    "\n",
    "x_train = x_train.reshape(60000, 28, 28, 1)\n",
    "x_test = x_test.reshape(10000, 28, 28, 1)\n",
    "print('After reshape: x_train.shape =', x_train.shape, '; x_test.shape =', x_test.shape)"
   ]
  },
  {
   "cell_type": "markdown",
   "metadata": {},
   "source": [
    "3. Filter 0 and 1"
   ]
  },
  {
   "cell_type": "code",
   "execution_count": 4,
   "metadata": {},
   "outputs": [
    {
     "name": "stdout",
     "output_type": "stream",
     "text": [
      "x_train_01.shape = (12665, 28, 28, 1) ; x_test_01.shape = (2115, 28, 28, 1)\n",
      "y_train_01.shape = (12665,) ; y_test_01.shape = (2115,)\n"
     ]
    }
   ],
   "source": [
    "x_train_01 = x_train[y_train <= 1]\n",
    "y_train_01 = y_train[y_train <= 1]\n",
    "x_test_01 = x_test[y_test <= 1]\n",
    "y_test_01 = y_test[y_test <= 1]\n",
    "print('x_train_01.shape =', x_train_01.shape, '; x_test_01.shape =', x_test_01.shape)\n",
    "print('y_train_01.shape =', y_train_01.shape, '; y_test_01.shape =', y_test_01.shape)"
   ]
  },
  {
   "cell_type": "markdown",
   "metadata": {},
   "source": [
    "4. Categorize"
   ]
  },
  {
   "cell_type": "code",
   "execution_count": 5,
   "metadata": {},
   "outputs": [
    {
     "name": "stdout",
     "output_type": "stream",
     "text": [
      "After categorize: y_train.shape = (60000, 10) ; y_test.shape = (10000, 10)\n",
      "After categorize: y_train_01.shape = (12665, 2) ; y_test_01.shape = (2115, 2)\n"
     ]
    }
   ],
   "source": [
    "import keras.utils as np_utils\n",
    "\n",
    "y_train = np_utils.to_categorical(y_train, 10)\n",
    "y_test = np_utils.to_categorical(y_test, 10)\n",
    "y_train_01 = np_utils.to_categorical(y_train_01, 2)\n",
    "y_test_01 = np_utils.to_categorical(y_test_01, 2)\n",
    "print('After categorize: y_train.shape =', y_train.shape, '; y_test.shape =', y_test.shape)\n",
    "print('After categorize: y_train_01.shape =', y_train_01.shape, '; y_test_01.shape =', y_test_01.shape)"
   ]
  },
  {
   "cell_type": "markdown",
   "metadata": {},
   "source": [
    "# Build CNN\n",
    "First model for 0 to 9 classification"
   ]
  },
  {
   "cell_type": "code",
   "execution_count": 6,
   "metadata": {},
   "outputs": [
    {
     "name": "stdout",
     "output_type": "stream",
     "text": [
      "_________________________________________________________________\n",
      "Layer (type)                 Output Shape              Param #   \n",
      "=================================================================\n",
      "conv2d_1 (Conv2D)            (None, 28, 28, 32)        320       \n",
      "_________________________________________________________________\n",
      "activation_1 (Activation)    (None, 28, 28, 32)        0         \n",
      "_________________________________________________________________\n",
      "max_pooling2d_1 (MaxPooling2 (None, 14, 14, 32)        0         \n",
      "_________________________________________________________________\n",
      "conv2d_2 (Conv2D)            (None, 14, 14, 64)        18496     \n",
      "_________________________________________________________________\n",
      "activation_2 (Activation)    (None, 14, 14, 64)        0         \n",
      "_________________________________________________________________\n",
      "max_pooling2d_2 (MaxPooling2 (None, 7, 7, 64)          0         \n",
      "_________________________________________________________________\n",
      "conv2d_3 (Conv2D)            (None, 7, 7, 128)         73856     \n",
      "_________________________________________________________________\n",
      "activation_3 (Activation)    (None, 7, 7, 128)         0         \n",
      "_________________________________________________________________\n",
      "max_pooling2d_3 (MaxPooling2 (None, 3, 3, 128)         0         \n",
      "_________________________________________________________________\n",
      "flatten_1 (Flatten)          (None, 1152)              0         \n",
      "_________________________________________________________________\n",
      "dense_1 (Dense)              (None, 200)               230600    \n",
      "_________________________________________________________________\n",
      "activation_4 (Activation)    (None, 200)               0         \n",
      "_________________________________________________________________\n",
      "dense_2 (Dense)              (None, 10)                2010      \n",
      "_________________________________________________________________\n",
      "activation_5 (Activation)    (None, 10)                0         \n",
      "=================================================================\n",
      "Total params: 325,282\n",
      "Trainable params: 325,282\n",
      "Non-trainable params: 0\n",
      "_________________________________________________________________\n"
     ]
    }
   ],
   "source": [
    "from keras.models import Sequential\n",
    "from keras.layers import Dense, Conv2D, MaxPooling2D, Flatten, Activation\n",
    "\n",
    "# We put 3 conv. blocks together, called conv_layer.\n",
    "conv_layer = [Conv2D(32, (3, 3), padding='same', input_shape=(28,28,1)),\n",
    "              Activation('relu'),\n",
    "              MaxPooling2D(pool_size=(2, 2)),\n",
    "              \n",
    "              Conv2D(64, (3, 3), padding='same'),\n",
    "              Activation('relu'),\n",
    "              MaxPooling2D(pool_size=(2, 2)),\n",
    "              \n",
    "              Conv2D(128, (3, 3), padding='same'),\n",
    "              Activation('relu'),\n",
    "              MaxPooling2D(pool_size=(2, 2))]\n",
    "\n",
    "# We put Flatten, and 2 fully-connectd layers together, called fc_layer.\n",
    "fc_layer = [Flatten(),\n",
    "            Dense(200),\n",
    "            Activation('relu'),\n",
    "            Dense(10),\n",
    "            Activation('softmax')]\n",
    "\n",
    "model = Sequential(conv_layer + fc_layer)\n",
    "model.summary()"
   ]
  },
  {
   "cell_type": "code",
   "execution_count": 7,
   "metadata": {},
   "outputs": [
    {
     "name": "stdout",
     "output_type": "stream",
     "text": [
      "Epoch 1/10\n",
      "60000/60000 [==============================] - 7s 113us/step - loss: 0.0955 - acc: 0.4078\n",
      "Epoch 2/10\n",
      "60000/60000 [==============================] - 4s 73us/step - loss: 0.0484 - acc: 0.6504\n",
      "Epoch 3/10\n",
      "60000/60000 [==============================] - 4s 73us/step - loss: 0.0223 - acc: 0.8429\n",
      "Epoch 4/10\n",
      "60000/60000 [==============================] - 4s 74us/step - loss: 0.0197 - acc: 0.8589\n",
      "Epoch 5/10\n",
      "60000/60000 [==============================] - 4s 73us/step - loss: 0.0185 - acc: 0.8660\n",
      "Epoch 6/10\n",
      "60000/60000 [==============================] - 4s 73us/step - loss: 0.0178 - acc: 0.8697\n",
      "Epoch 7/10\n",
      "60000/60000 [==============================] - 4s 73us/step - loss: 0.0173 - acc: 0.8729\n",
      "Epoch 8/10\n",
      "60000/60000 [==============================] - 4s 74us/step - loss: 0.0168 - acc: 0.8753\n",
      "Epoch 9/10\n",
      "60000/60000 [==============================] - 4s 74us/step - loss: 0.0165 - acc: 0.8772\n",
      "Epoch 10/10\n",
      "60000/60000 [==============================] - 4s 74us/step - loss: 0.0162 - acc: 0.8785\n"
     ]
    },
    {
     "data": {
      "text/plain": [
       "<keras.callbacks.History at 0x17bafb70d68>"
      ]
     },
     "execution_count": 7,
     "metadata": {},
     "output_type": "execute_result"
    }
   ],
   "source": [
    "model.compile(loss='mse', optimizer='sgd', metrics=['accuracy'])\n",
    "model.fit(x_train, y_train, batch_size=100, epochs=10)"
   ]
  },
  {
   "cell_type": "code",
   "execution_count": 8,
   "metadata": {},
   "outputs": [
    {
     "name": "stdout",
     "output_type": "stream",
     "text": [
      "10000/10000 [==============================] - 1s 60us/step\n"
     ]
    },
    {
     "data": {
      "text/plain": [
       "[0.01645310133784078, 0.877]"
      ]
     },
     "execution_count": 8,
     "metadata": {},
     "output_type": "execute_result"
    }
   ],
   "source": [
    "model.evaluate(x_test, y_test)"
   ]
  },
  {
   "cell_type": "markdown",
   "metadata": {},
   "source": [
    "# Transfer Learning\n",
    "Make use of the ready 0-to-9 classification model to build another 0-and-1 classification model"
   ]
  },
  {
   "cell_type": "markdown",
   "metadata": {},
   "source": [
    "### Two nodes in output layer\n",
    "1. Transfer\n",
    "    - Create another model based on the previous model and new layers"
   ]
  },
  {
   "cell_type": "code",
   "execution_count": 9,
   "metadata": {},
   "outputs": [
    {
     "name": "stdout",
     "output_type": "stream",
     "text": [
      "_________________________________________________________________\n",
      "Layer (type)                 Output Shape              Param #   \n",
      "=================================================================\n",
      "conv2d_1 (Conv2D)            (None, 28, 28, 32)        320       \n",
      "_________________________________________________________________\n",
      "activation_1 (Activation)    (None, 28, 28, 32)        0         \n",
      "_________________________________________________________________\n",
      "max_pooling2d_1 (MaxPooling2 (None, 14, 14, 32)        0         \n",
      "_________________________________________________________________\n",
      "conv2d_2 (Conv2D)            (None, 14, 14, 64)        18496     \n",
      "_________________________________________________________________\n",
      "activation_2 (Activation)    (None, 14, 14, 64)        0         \n",
      "_________________________________________________________________\n",
      "max_pooling2d_2 (MaxPooling2 (None, 7, 7, 64)          0         \n",
      "_________________________________________________________________\n",
      "conv2d_3 (Conv2D)            (None, 7, 7, 128)         73856     \n",
      "_________________________________________________________________\n",
      "activation_3 (Activation)    (None, 7, 7, 128)         0         \n",
      "_________________________________________________________________\n",
      "max_pooling2d_3 (MaxPooling2 (None, 3, 3, 128)         0         \n",
      "_________________________________________________________________\n",
      "flatten_2 (Flatten)          (None, 1152)              0         \n",
      "_________________________________________________________________\n",
      "dense_3 (Dense)              (None, 200)               230600    \n",
      "_________________________________________________________________\n",
      "activation_6 (Activation)    (None, 200)               0         \n",
      "_________________________________________________________________\n",
      "dense_4 (Dense)              (None, 2)                 402       \n",
      "_________________________________________________________________\n",
      "activation_7 (Activation)    (None, 2)                 0         \n",
      "=================================================================\n",
      "Total params: 323,674\n",
      "Trainable params: 323,674\n",
      "Non-trainable params: 0\n",
      "_________________________________________________________________\n"
     ]
    }
   ],
   "source": [
    "new_fc_layer = [Flatten(),\n",
    "                Dense(200),\n",
    "                Activation('relu'),\n",
    "                Dense(2),\n",
    "                Activation('softmax')]\n",
    "\n",
    "model_01 = Sequential(conv_layer + new_fc_layer)\n",
    "model_01.summary()"
   ]
  },
  {
   "cell_type": "markdown",
   "metadata": {},
   "source": [
    "2. Fix Trained Parameters"
   ]
  },
  {
   "cell_type": "code",
   "execution_count": 10,
   "metadata": {
    "scrolled": true
   },
   "outputs": [
    {
     "name": "stdout",
     "output_type": "stream",
     "text": [
      "_________________________________________________________________\n",
      "Layer (type)                 Output Shape              Param #   \n",
      "=================================================================\n",
      "conv2d_1 (Conv2D)            (None, 28, 28, 32)        320       \n",
      "_________________________________________________________________\n",
      "activation_1 (Activation)    (None, 28, 28, 32)        0         \n",
      "_________________________________________________________________\n",
      "max_pooling2d_1 (MaxPooling2 (None, 14, 14, 32)        0         \n",
      "_________________________________________________________________\n",
      "conv2d_2 (Conv2D)            (None, 14, 14, 64)        18496     \n",
      "_________________________________________________________________\n",
      "activation_2 (Activation)    (None, 14, 14, 64)        0         \n",
      "_________________________________________________________________\n",
      "max_pooling2d_2 (MaxPooling2 (None, 7, 7, 64)          0         \n",
      "_________________________________________________________________\n",
      "conv2d_3 (Conv2D)            (None, 7, 7, 128)         73856     \n",
      "_________________________________________________________________\n",
      "activation_3 (Activation)    (None, 7, 7, 128)         0         \n",
      "_________________________________________________________________\n",
      "max_pooling2d_3 (MaxPooling2 (None, 3, 3, 128)         0         \n",
      "_________________________________________________________________\n",
      "flatten_2 (Flatten)          (None, 1152)              0         \n",
      "_________________________________________________________________\n",
      "dense_3 (Dense)              (None, 200)               230600    \n",
      "_________________________________________________________________\n",
      "activation_6 (Activation)    (None, 200)               0         \n",
      "_________________________________________________________________\n",
      "dense_4 (Dense)              (None, 2)                 402       \n",
      "_________________________________________________________________\n",
      "activation_7 (Activation)    (None, 2)                 0         \n",
      "=================================================================\n",
      "Total params: 323,674\n",
      "Trainable params: 231,002\n",
      "Non-trainable params: 92,672\n",
      "_________________________________________________________________\n"
     ]
    }
   ],
   "source": [
    "for layer in conv_layer:\n",
    "    layer.trainable = False\n",
    "\n",
    "model_01.summary()"
   ]
  },
  {
   "cell_type": "markdown",
   "metadata": {},
   "source": [
    "3. Train"
   ]
  },
  {
   "cell_type": "code",
   "execution_count": 11,
   "metadata": {},
   "outputs": [
    {
     "name": "stdout",
     "output_type": "stream",
     "text": [
      "Epoch 1/5\n",
      "12665/12665 [==============================] - 1s 52us/step - loss: 0.2982 - acc: 0.6992\n",
      "Epoch 2/5\n",
      "12665/12665 [==============================] - 1s 43us/step - loss: 0.0035 - acc: 0.9956\n",
      "Epoch 3/5\n",
      "12665/12665 [==============================] - 1s 42us/step - loss: 0.0020 - acc: 0.9977\n",
      "Epoch 4/5\n",
      "12665/12665 [==============================] - 1s 42us/step - loss: 0.0013 - acc: 0.9984\n",
      "Epoch 5/5\n",
      "12665/12665 [==============================] - 1s 44us/step - loss: 0.0011 - acc: 0.9986\n"
     ]
    },
    {
     "data": {
      "text/plain": [
       "<keras.callbacks.History at 0x17bbd511e48>"
      ]
     },
     "execution_count": 11,
     "metadata": {},
     "output_type": "execute_result"
    }
   ],
   "source": [
    "model_01.compile(loss='mse', optimizer='sgd', metrics=['accuracy'])\n",
    "model_01.fit(x_train_01, y_train_01, batch_size=100, epochs=5)"
   ]
  },
  {
   "cell_type": "code",
   "execution_count": 12,
   "metadata": {},
   "outputs": [
    {
     "name": "stdout",
     "output_type": "stream",
     "text": [
      "2115/2115 [==============================] - 0s 80us/step\n"
     ]
    },
    {
     "data": {
      "text/plain": [
       "[0.0005399081621233167, 0.9995271867612293]"
      ]
     },
     "execution_count": 12,
     "metadata": {},
     "output_type": "execute_result"
    }
   ],
   "source": [
    "model_01.evaluate(x_test_01, y_test_01)"
   ]
  },
  {
   "cell_type": "markdown",
   "metadata": {},
   "source": [
    "### One node in output layer\n",
    "1. Data adjustment\n",
    "    - Reverse categorical"
   ]
  },
  {
   "cell_type": "code",
   "execution_count": 20,
   "metadata": {},
   "outputs": [
    {
     "name": "stdout",
     "output_type": "stream",
     "text": [
      "(12665,) (2115,)\n",
      "y_train_01_b = [0 1 1 ... 1 0 1]\n",
      "y_test_01_b = [1 0 1 ... 1 0 1]\n"
     ]
    }
   ],
   "source": [
    "y_train_01_b = np.argmax(y_train_01, axis=1)\n",
    "y_test_01_b = np.argmax(y_test_01, axis=1)\n",
    "print(y_train_01_b.shape, y_test_01_b.shape)\n",
    "print('y_train_01_b =', y_train_01_b)\n",
    "print('y_test_01_b =', y_test_01_b)"
   ]
  },
  {
   "cell_type": "markdown",
   "metadata": {},
   "source": [
    "2. Transfer"
   ]
  },
  {
   "cell_type": "code",
   "execution_count": 21,
   "metadata": {},
   "outputs": [
    {
     "name": "stdout",
     "output_type": "stream",
     "text": [
      "_________________________________________________________________\n",
      "Layer (type)                 Output Shape              Param #   \n",
      "=================================================================\n",
      "conv2d_1 (Conv2D)            (None, 28, 28, 32)        320       \n",
      "_________________________________________________________________\n",
      "activation_1 (Activation)    (None, 28, 28, 32)        0         \n",
      "_________________________________________________________________\n",
      "max_pooling2d_1 (MaxPooling2 (None, 14, 14, 32)        0         \n",
      "_________________________________________________________________\n",
      "conv2d_2 (Conv2D)            (None, 14, 14, 64)        18496     \n",
      "_________________________________________________________________\n",
      "activation_2 (Activation)    (None, 14, 14, 64)        0         \n",
      "_________________________________________________________________\n",
      "max_pooling2d_2 (MaxPooling2 (None, 7, 7, 64)          0         \n",
      "_________________________________________________________________\n",
      "conv2d_3 (Conv2D)            (None, 7, 7, 128)         73856     \n",
      "_________________________________________________________________\n",
      "activation_3 (Activation)    (None, 7, 7, 128)         0         \n",
      "_________________________________________________________________\n",
      "max_pooling2d_3 (MaxPooling2 (None, 3, 3, 128)         0         \n",
      "_________________________________________________________________\n",
      "flatten_3 (Flatten)          (None, 1152)              0         \n",
      "_________________________________________________________________\n",
      "dense_5 (Dense)              (None, 200)               230600    \n",
      "_________________________________________________________________\n",
      "activation_8 (Activation)    (None, 200)               0         \n",
      "_________________________________________________________________\n",
      "dense_6 (Dense)              (None, 1)                 201       \n",
      "_________________________________________________________________\n",
      "activation_9 (Activation)    (None, 1)                 0         \n",
      "=================================================================\n",
      "Total params: 323,473\n",
      "Trainable params: 230,801\n",
      "Non-trainable params: 92,672\n",
      "_________________________________________________________________\n"
     ]
    }
   ],
   "source": [
    "binary_fc_layer = [Flatten(),\n",
    "                Dense(200),\n",
    "                Activation('relu'),\n",
    "                Dense(1),\n",
    "                Activation('sigmoid')]\n",
    "\n",
    "model_binary = Sequential(conv_layer + binary_fc_layer)\n",
    "model_binary.summary()"
   ]
  },
  {
   "cell_type": "markdown",
   "metadata": {},
   "source": [
    "3. Train"
   ]
  },
  {
   "cell_type": "code",
   "execution_count": 23,
   "metadata": {},
   "outputs": [
    {
     "name": "stdout",
     "output_type": "stream",
     "text": [
      "Epoch 1/5\n",
      "12665/12665 [==============================] - 2s 130us/step - loss: 0.0214 - acc: 0.9731\n",
      "Epoch 2/5\n",
      "12665/12665 [==============================] - 1s 116us/step - loss: 0.0034 - acc: 0.9961\n",
      "Epoch 3/5\n",
      "12665/12665 [==============================] - 1s 117us/step - loss: 0.0024 - acc: 0.9969\n",
      "Epoch 4/5\n",
      "12665/12665 [==============================] - 1s 117us/step - loss: 0.0018 - acc: 0.9979\n",
      "Epoch 5/5\n",
      "12665/12665 [==============================] - 2s 119us/step - loss: 0.0014 - acc: 0.9983\n",
      "2115/2115 [==============================] - 0s 158us/step\n"
     ]
    },
    {
     "data": {
      "text/plain": [
       "[0.001045695909280701, 0.9995271867612293]"
      ]
     },
     "execution_count": 23,
     "metadata": {},
     "output_type": "execute_result"
    }
   ],
   "source": [
    "model_binary.compile(loss='mse', optimizer='sgd', metrics=['accuracy'])\n",
    "model_binary.fit(x_train_01, y_train_01_b, batch_size=100, epochs=5)\n",
    "model_binary.evaluate(x_test_01, y_test_01_b)"
   ]
  },
  {
   "cell_type": "markdown",
   "metadata": {},
   "source": [
    "# Conclusion\n",
    "\n",
    "Even though the original model is trained for multi-class classification, transfering it to a two-class classification model still works properly.\n",
    "Having a little twist in the output layer doesn't harm because the hidden layer with 200 nodes will cover the conversion."
   ]
  },
  {
   "cell_type": "code",
   "execution_count": null,
   "metadata": {},
   "outputs": [],
   "source": []
  }
 ],
 "metadata": {
  "kernelspec": {
   "display_name": "Python 3",
   "language": "python",
   "name": "python3"
  },
  "language_info": {
   "codemirror_mode": {
    "name": "ipython",
    "version": 3
   },
   "file_extension": ".py",
   "mimetype": "text/x-python",
   "name": "python",
   "nbconvert_exporter": "python",
   "pygments_lexer": "ipython3",
   "version": "3.6.7"
  }
 },
 "nbformat": 4,
 "nbformat_minor": 2
}
